{
 "cells": [
  {
   "cell_type": "code",
   "execution_count": null,
   "metadata": {},
   "outputs": [],
   "source": [
    "import json\n",
    "from collections import defaultdict\n",
    "import os\n",
    "import math\n",
    "import shutil"
   ]
  },
  {
   "cell_type": "code",
   "execution_count": null,
   "metadata": {},
   "outputs": [],
   "source": [
    "annotation_path = 'F:/Rotated_MWR/CEPDOF/annotations/'\n",
    "txt_path = 'F:/Rotated_MWR/CEPDOF/txt/'\n",
    "root = 'F:/Rotated_MWR/CEPDOF/'\n"
   ]
  },
  {
   "cell_type": "code",
   "execution_count": null,
   "metadata": {},
   "outputs": [],
   "source": [
    "for f in os.listdir(annotation_path):\n",
    "    ann_file = annotation_path+f\n",
    "    # Load the annotation file\n",
    "    ann_data = json.load(open(ann_file, 'r'))\n",
    "    imgId_to_anns = defaultdict(list)\n",
    "    _ = [imgId_to_anns[ann['image_id']].append(ann) for ann in ann_data['annotations']]\n",
    "    for img_info in ann_data['images']:\n",
    "        img_id = img_info['id']\n",
    "        img_width = img_info['width']\n",
    "        img_height = img_info['height']\n",
    "        txt_file = open(txt_path + img_id + '.txt', 'w')\n",
    "        # print(txt_path + img_id + '.txt')\n",
    "        anns = imgId_to_anns[img_id]\n",
    "        for ann in anns:\n",
    "            # print(ann['bbox'])\n",
    "            real = math.cos(math.radians(ann['bbox'][4]))\n",
    "            imagine = math.sin(math.radians(ann['bbox'][4]))\n",
    "            x = ann['bbox'][0]/img_width\n",
    "            y = ann['bbox'][1]/img_height\n",
    "            w = ann['bbox'][2]/img_width\n",
    "            h = ann['bbox'][3]/img_height\n",
    "            # print(x, y, w, h, real, imagine)\n",
    "            txt_file.write(\"0 {} {} {} {} {} {}\\n\". format(x, y, w, h, real, imagine))\n",
    "        txt_file.close()\n",
    "        \n",
    "    "
   ]
  },
  {
   "cell_type": "code",
   "execution_count": null,
   "metadata": {},
   "outputs": [],
   "source": [
    "idx = 0\n",
    "for i in os.listdir(txt_path):\n",
    "    parent_dir = i[:i.rfind('_')]\n",
    "    img_file = i[:-4]+'.jpg'\n",
    "    print(parent_dir, img_file)\n",
    "    if idx % 5 == 0:\n",
    "        im_src = root + parent_dir+'/'+img_file\n",
    "        im_dst = root + 'images/val/'+img_file\n",
    "        l_src = txt_path + i\n",
    "        l_dst = root+'labels/val/'+i\n",
    "        # print(im_src, im_dst, l_src, l_dst)\n",
    "        shutil.copy(im_src, im_dst)\n",
    "        shutil.copy(l_src,l_dst)\n",
    "    else:\n",
    "        im_src = root + parent_dir+'/'+img_file\n",
    "        im_dst = root + 'images/train/'+img_file\n",
    "        l_src = txt_path + i\n",
    "        l_dst = root+'labels/train/'+i\n",
    "        # print(im_src, im_dst, l_src, l_dst)\n",
    "        shutil.copy(im_src, im_dst)\n",
    "        shutil.copy(l_src,l_dst)\n",
    "    idx = idx + 1\n",
    "    \n"
   ]
  }
 ],
 "metadata": {
  "interpreter": {
   "hash": "62b827cd2d8108b3cb0306447321bd64244422ec9a07479674c0c1f9751070d5"
  },
  "kernelspec": {
   "display_name": "Python 3.6.8 64-bit",
   "name": "python3"
  },
  "language_info": {
   "codemirror_mode": {
    "name": "ipython",
    "version": 3
   },
   "file_extension": ".py",
   "mimetype": "text/x-python",
   "name": "python",
   "nbconvert_exporter": "python",
   "pygments_lexer": "ipython3",
   "version": "3.6.8"
  },
  "orig_nbformat": 4
 },
 "nbformat": 4,
 "nbformat_minor": 2
}
