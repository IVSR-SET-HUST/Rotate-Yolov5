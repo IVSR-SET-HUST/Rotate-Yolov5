{
 "cells": [
  {
   "cell_type": "code",
   "execution_count": null,
   "metadata": {},
   "outputs": [],
   "source": [
    "import os\n",
    "import shutil\n",
    "import cv2\n",
    "import math"
   ]
  },
  {
   "cell_type": "code",
   "execution_count": null,
   "metadata": {},
   "outputs": [
    {
     "ename": "",
     "evalue": "",
     "output_type": "error",
     "traceback": [
      "\u001b[1;31mError: Canceled connection to 'Python 3.6.9 64-bit' kernel"
     ]
    }
   ],
   "source": [
    "habbof_dir = \"/home/long/Documents/HABBOF/\"\n",
    "folders = ['Lab1', 'Lab2', 'Meeting1', 'Meeting2']"
   ]
  },
  {
   "cell_type": "code",
   "execution_count": null,
   "metadata": {},
   "outputs": [
    {
     "ename": "",
     "evalue": "",
     "output_type": "error",
     "traceback": [
      "\u001b[1;31mError: Canceled connection to 'Python 3.6.9 64-bit' kernel"
     ]
    }
   ],
   "source": [
    "for fd in folders:\n",
    "    folder = habbof_dir + fd\n",
    "    for f in os.listdir(folder):\n",
    "        if '.jpg' in f:\n",
    "            continue\n",
    "        img_path = os.path.join(folder, f.replace('txt', 'jpg'))\n",
    "        img = cv2.imread(img_path)\n",
    "        height, width, _ = img.shape\n",
    "        reader = open(os.path.join(folder+f), 'r')\n",
    "        lines = reader.readlines()\n",
    "        writer = open(os.path.join(habbof_dir, 'labels', f), 'w')\n",
    "        for line in lines:\n",
    "            _, cx, cy, w, h, a = line.split(' ')\n",
    "            cx = cx/width\n",
    "            cy = cy/height\n",
    "            w = w/width\n",
    "            h = h/height\n",
    "            r = math.cos(math.radians(a))\n",
    "            i = math.sin(math.radians(a))\n",
    "            writer.write(\"0 {} {} {} {} {} {}\\n\". format(cx, cy, w, h, r, i))\n",
    "        writer.close()\n",
    "        reader.close()\n",
    "        shutil.copy(img_path, os.path.join(habbof_dir, 'images', f.replace('txt', 'jpg')))\n",
    "        break\n",
    "    break\n",
    "\n",
    "        \n",
    "        "
   ]
  }
 ],
 "metadata": {
  "interpreter": {
   "hash": "31f2aee4e71d21fbe5cf8b01ff0e069b9275f58929596ceb00d14d90e3e16cd6"
  },
  "kernelspec": {
   "display_name": "Python 3.6.9 64-bit",
   "language": "python",
   "name": "python3"
  },
  "language_info": {
   "name": "python",
   "version": "3.6.9"
  },
  "orig_nbformat": 4
 },
 "nbformat": 4,
 "nbformat_minor": 2
}
